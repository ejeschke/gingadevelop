{
 "cells": [
  {
   "cell_type": "code",
   "execution_count": 24,
   "metadata": {
    "collapsed": true
   },
   "outputs": [],
   "source": [
    "import fitsio\n",
    "from astropy.io import fits as pyfits\n",
    "import numpy as np"
   ]
  },
  {
   "cell_type": "code",
   "execution_count": 25,
   "metadata": {
    "collapsed": true
   },
   "outputs": [],
   "source": [
    "# needed for clearing files out of cache\n",
    "# if you don't care about this, comment out lines below and/or \n",
    "# don't run the last cell for timings\n",
    "import fadvise as fa\n",
    "from time import sleep"
   ]
  },
  {
   "cell_type": "code",
   "execution_count": 26,
   "metadata": {
    "collapsed": false
   },
   "outputs": [
    {
     "name": "stdout",
     "output_type": "stream",
     "text": [
      "['images/scaled15000x15000.fits', 'images/5000x5000.fits', 'images/1000x1000.fits', 'images/15000x15000.fits', 'images/iris.fits', 'images/10000x10000.fits']\n"
     ]
    }
   ],
   "source": [
    "import glob\n",
    "files = glob.glob('images/*.fits')\n",
    "print files"
   ]
  },
  {
   "cell_type": "code",
   "execution_count": 27,
   "metadata": {
    "collapsed": true
   },
   "outputs": [],
   "source": [
    "def read_test_pyfits(filename):\n",
    "    '''Use PyFits to open image. Default parameters'''\n",
    "    with pyfits.open(filename) as hdul:\n",
    "        data = hdul[0].data\n",
    "        sum = np.sum(data)"
   ]
  },
  {
   "cell_type": "code",
   "execution_count": 28,
   "metadata": {
    "collapsed": true
   },
   "outputs": [],
   "source": [
    "def read_test_fitsio(filename):\n",
    "    '''Use FitsIO to open image. Default parameters'''\n",
    "    with fitsio.FITS(filename) as f:\n",
    "        data = f[0].read()\n",
    "        sum = np.sum(data)"
   ]
  },
  {
   "cell_type": "code",
   "execution_count": 34,
   "metadata": {
    "collapsed": true
   },
   "outputs": [],
   "source": [
    "def read_test_fitsio_buffered(filename, n=1000):\n",
    "    '''Experimental function for fitsio to open an image in \n",
    "    a sequentially buffered fashion. Not used in this notebook, \n",
    "    but may be correctly implemented and included in the testing\n",
    "    in the future.'''\n",
    "    data =[]\n",
    "\n",
    "    with fitsio.FITS(filename, iter_row_buffer=n) as f:\n",
    "        for hdu in f:\n",
    "            data.append(hdu.read())\n",
    "        return data"
   ]
  },
  {
   "cell_type": "code",
   "execution_count": 30,
   "metadata": {
    "collapsed": false
   },
   "outputs": [
    {
     "name": "stdout",
     "output_type": "stream",
     "text": [
      "images/scaled15000x15000.fits\n",
      "CPU times: user 1.26 s, sys: 1.11 s, total: 2.38 s\n",
      "Wall time: 2.87 s\n",
      "\n",
      "\n",
      "images/5000x5000.fits\n",
      "CPU times: user 80 ms, sys: 164 ms, total: 244 ms\n",
      "Wall time: 623 ms\n",
      "\n",
      "\n",
      "images/1000x1000.fits\n",
      "CPU times: user 4 ms, sys: 12 ms, total: 16 ms\n",
      "Wall time: 27.1 ms\n",
      "\n",
      "\n",
      "images/15000x15000.fits\n",
      "CPU times: user 768 ms, sys: 1.63 s, total: 2.4 s\n",
      "Wall time: 5.74 s\n",
      "\n",
      "\n",
      "images/iris.fits\n",
      "CPU times: user 1.8 s, sys: 708 ms, total: 2.51 s\n",
      "Wall time: 2.58 s\n",
      "\n",
      "\n",
      "images/10000x10000.fits\n",
      "CPU times: user 356 ms, sys: 592 ms, total: 948 ms\n",
      "Wall time: 2.49 s\n",
      "\n",
      "\n"
     ]
    }
   ],
   "source": [
    "for f in files:\n",
    "    print f\n",
    "    %time read_test_fitsio(f)\n",
    "    fa.dontneed(f)\n",
    "    print '\\n'"
   ]
  },
  {
   "cell_type": "code",
   "execution_count": 31,
   "metadata": {
    "collapsed": false
   },
   "outputs": [
    {
     "name": "stdout",
     "output_type": "stream",
     "text": [
      "images/scaled15000x15000.fits\n",
      "CPU times: user 1.69 s, sys: 1.04 s, total: 2.74 s\n",
      "Wall time: 3.52 s\n",
      "\n",
      "\n",
      "images/5000x5000.fits\n",
      "CPU times: user 108 ms, sys: 96 ms, total: 204 ms\n",
      "Wall time: 564 ms\n",
      "\n",
      "\n",
      "images/1000x1000.fits\n",
      "CPU times: user 4 ms, sys: 4 ms, total: 8 ms\n",
      "Wall time: 22.5 ms\n",
      "\n",
      "\n",
      "images/15000x15000.fits\n",
      "CPU times: user 832 ms, sys: 912 ms, total: 1.74 s\n",
      "Wall time: 5.08 s\n",
      "\n",
      "\n",
      "images/iris.fits\n",
      "CPU times: user 2.11 s, sys: 748 ms, total: 2.86 s\n",
      "Wall time: 2.98 s\n",
      "\n",
      "\n",
      "images/10000x10000.fits\n",
      "CPU times: user 400 ms, sys: 392 ms, total: 792 ms\n",
      "Wall time: 2.24 s\n",
      "\n",
      "\n"
     ]
    }
   ],
   "source": [
    "for f in files:\n",
    "    print f\n",
    "    %time read_test_pyfits(f)\n",
    "    fa.dontneed(f)\n",
    "    print '\\n'"
   ]
  },
  {
   "cell_type": "code",
   "execution_count": 32,
   "metadata": {
    "collapsed": false
   },
   "outputs": [
    {
     "name": "stdout",
     "output_type": "stream",
     "text": [
      "***images/scaled15000x15000.fits\n",
      "-fitsio\n",
      "CPU times: user 1.24 s, sys: 1.19 s, total: 2.43 s\n",
      "Wall time: 2.79 s\n",
      "-pyfits\n",
      "CPU times: user 1.69 s, sys: 1.06 s, total: 2.74 s\n",
      "Wall time: 3.48 s\n",
      "\n",
      "\n",
      "***images/5000x5000.fits\n",
      "-fitsio\n",
      "CPU times: user 100 ms, sys: 152 ms, total: 252 ms\n",
      "Wall time: 621 ms\n",
      "-pyfits\n",
      "CPU times: user 108 ms, sys: 100 ms, total: 208 ms\n",
      "Wall time: 580 ms\n",
      "\n",
      "\n",
      "***images/1000x1000.fits\n",
      "-fitsio\n",
      "CPU times: user 4 ms, sys: 8 ms, total: 12 ms\n",
      "Wall time: 26.9 ms\n",
      "-pyfits\n",
      "CPU times: user 8 ms, sys: 4 ms, total: 12 ms\n",
      "Wall time: 22.3 ms\n",
      "\n",
      "\n",
      "***images/15000x15000.fits\n",
      "-fitsio\n",
      "CPU times: user 684 ms, sys: 1.78 s, total: 2.47 s\n",
      "Wall time: 5.73 s\n",
      "-pyfits\n",
      "CPU times: user 948 ms, sys: 832 ms, total: 1.78 s\n",
      "Wall time: 5.04 s\n",
      "\n",
      "\n",
      "***images/iris.fits\n",
      "-fitsio\n",
      "CPU times: user 1.88 s, sys: 804 ms, total: 2.68 s\n",
      "Wall time: 2.72 s\n",
      "-pyfits\n",
      "CPU times: user 2.08 s, sys: 752 ms, total: 2.83 s\n",
      "Wall time: 2.96 s\n",
      "\n",
      "\n",
      "***images/10000x10000.fits\n",
      "-fitsio\n",
      "CPU times: user 344 ms, sys: 592 ms, total: 936 ms\n",
      "Wall time: 2.49 s\n",
      "-pyfits\n",
      "CPU times: user 400 ms, sys: 400 ms, total: 800 ms\n",
      "Wall time: 2.23 s\n",
      "\n",
      "\n"
     ]
    }
   ],
   "source": [
    "# may not be a useful test, since the first call caches the image, \n",
    "# making the second call cached and faster\n",
    "# we'll try to advise the cache to remove the image and add a delay\n",
    "\n",
    "for f in files:\n",
    "    \n",
    "    print '```' + f\n",
    "    print '-' + 'fitsio'\n",
    "    fa.dontneed(f)\n",
    "    %time read_test_fitsio(f)\n",
    "    fa.dontneed(f)\n",
    "    sleep(5)\n",
    "    print '-' + 'pyfits'\n",
    "    %time read_test_pyfits(f)\n",
    "    fa.dontneed(f)\n",
    "    print '\\n'"
   ]
  },
  {
   "cell_type": "markdown",
   "metadata": {
    "collapsed": true
   },
   "source": [
    "## Conclusions"
   ]
  },
  {
   "cell_type": "markdown",
   "metadata": {},
   "source": [
    "There are no discernable differences between loading a image with `fitsio` and `pyfits`. There is a slight time improvement with larger files on `pyfits`, implying that `pyfits` might be better at loading big images. The maximum image size tested here was ~800 MB, so to discern any signficant time improvement, we might need to test with files around 2-3 GB. "
   ]
  },
  {
   "cell_type": "code",
   "execution_count": null,
   "metadata": {
    "collapsed": true
   },
   "outputs": [],
   "source": []
  }
 ],
 "metadata": {
  "kernelspec": {
   "display_name": "Python 2",
   "language": "python",
   "name": "python2"
  },
  "language_info": {
   "codemirror_mode": {
    "name": "ipython",
    "version": 2
   },
   "file_extension": ".py",
   "mimetype": "text/x-python",
   "name": "python",
   "nbconvert_exporter": "python",
   "pygments_lexer": "ipython2",
   "version": "2.7.10"
  }
 },
 "nbformat": 4,
 "nbformat_minor": 0
}
