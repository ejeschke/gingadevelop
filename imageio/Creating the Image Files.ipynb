{
 "cells": [
  {
   "cell_type": "code",
   "execution_count": 2,
   "metadata": {
    "collapsed": true
   },
   "outputs": [],
   "source": [
    "# This notebook creates/writes images to disk for testing cases\n",
    "# As such, running the entire notebook will take \n",
    "# a bit of time and memory\n",
    "# If you'd rather use your own images, simply place them in images/ \n",
    "# and run the other notebooks\n",
    "import urllib\n",
    "import os\n",
    "import gzip\n",
    "import numpy as np\n",
    "from astropy.io import fits"
   ]
  },
  {
   "cell_type": "code",
   "execution_count": 4,
   "metadata": {
    "collapsed": false
   },
   "outputs": [],
   "source": [
    "images_folder_exists = os.path.isdir('images/')\n",
    "if not images_folder_exists:\n",
    "    os.makedirs('images/')"
   ]
  },
  {
   "cell_type": "code",
   "execution_count": 26,
   "metadata": {
    "collapsed": false
   },
   "outputs": [],
   "source": [
    "# create some random noise images (2D)\n",
    "lengths = [1000, 5000, 10000, 15000] #note: 15000 takes ~800 MB\n",
    "for length in lengths:\n",
    "    arr = np.random.random([length, length])\n",
    "    hdu = fits.PrimaryHDU(arr)\n",
    "    ln = str(length)\n",
    "    hdu.writeto('images/' + ln + 'x' + ln + '.fits')"
   ]
  },
  {
   "cell_type": "code",
   "execution_count": 28,
   "metadata": {
    "collapsed": false
   },
   "outputs": [],
   "source": [
    "# create a .fits file with bscale and bzero parameters\n",
    "# a useful testcase for memory-mapping\n",
    "length = 15000\n",
    "arr = np.random.random([length, length])\n",
    "hdu = fits.PrimaryHDU(arr)\n",
    "hdu.scale('int32', 'minmax')\n",
    "hdu.writeto('images/scaled' + str(length) + 'x' + str(length) + '.fits')"
   ]
  },
  {
   "cell_type": "code",
   "execution_count": 20,
   "metadata": {
    "collapsed": false,
    "scrolled": false
   },
   "outputs": [],
   "source": [
    "# download a real image file, easier to just download from browser and\n",
    "# unzip on your os, but this snippet should do the same thing\n",
    "## this following file is a 3D radio cube with bscale & bzero parameters\n",
    "url = 'http://www.lmsal.com/solarsoft/irisa/data/level2_compressed/2015/10/09/20151009_041433_3620263378/iris_l2_20151009_041433_3620263378_SJI_1330_t000.fits.gz'\n",
    "image_zip = open('images/iris.gz', 'wb')\n",
    "image_zip.write(urllib.urlopen(url).read())\n",
    "image_zip.close()\n",
    "with gzip.open('images/iris.gz', 'r') as f:\n",
    "    image_content = f.read()\n",
    "with gzip.open('images/iris.fits', 'w') as f:\n",
    "    f.write(image_content)\n",
    "    os.remove('images/iris.gz')"
   ]
  }
 ],
 "metadata": {
  "kernelspec": {
   "display_name": "Python 2",
   "language": "python",
   "name": "python2"
  },
  "language_info": {
   "codemirror_mode": {
    "name": "ipython",
    "version": 2
   },
   "file_extension": ".py",
   "mimetype": "text/x-python",
   "name": "python",
   "nbconvert_exporter": "python",
   "pygments_lexer": "ipython2",
   "version": "2.7.10"
  }
 },
 "nbformat": 4,
 "nbformat_minor": 0
}
