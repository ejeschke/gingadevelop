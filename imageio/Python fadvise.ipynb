{
 "cells": [
  {
   "cell_type": "code",
   "execution_count": 1,
   "metadata": {
    "collapsed": false
   },
   "outputs": [],
   "source": [
    "from ginga.AstroImage import AstroImage\n",
    "import numpy as np\n",
    "import fadvise as fa\n",
    "from time import sleep"
   ]
  },
  {
   "cell_type": "code",
   "execution_count": 2,
   "metadata": {
    "collapsed": false
   },
   "outputs": [
    {
     "name": "stdout",
     "output_type": "stream",
     "text": [
      "False\n",
      "True\n",
      "<ginga.util.io_fits.PyFitsFileHandler object at 0x7f85811c8ed0>\n"
     ]
    }
   ],
   "source": [
    "# It might be useful to run the following code for both\n",
    "# PyFits and cfitsio. There may be a drastic time difference...\n",
    "from ginga.util import io_fits as io\n",
    "print io.have_fitsio\n",
    "print io.have_pyfits\n",
    "print io.get_fitsloader()\n",
    "# io.use('astropy') # 'astropy' or 'fitsio'\n",
    "#print io.get_fitsloader()"
   ]
  },
  {
   "cell_type": "markdown",
   "metadata": {},
   "source": [
    "# Loading Functions"
   ]
  },
  {
   "cell_type": "code",
   "execution_count": 3,
   "metadata": {
    "collapsed": true
   },
   "outputs": [],
   "source": [
    "def load_normal(path):\n",
    "    '''The base test for loading images. \n",
    "    Should the one to compare against all optimizations'''\n",
    "    sleep(2)\n",
    "    image = AstroImage()\n",
    "    image.load_file(path)\n",
    "    sum = np.sum(image.get_data())\n",
    "    fa.dontneed(path) # advise os to remove from cache\n",
    "    return sum"
   ]
  },
  {
   "cell_type": "code",
   "execution_count": 4,
   "metadata": {
    "collapsed": true
   },
   "outputs": [],
   "source": [
    "def load_with_advise(path):\n",
    "    '''Advises with no special information about the file.\n",
    "    Generic advise function'''\n",
    "    fa.normal(path)\n",
    "    sleep(2)\n",
    "    image = AstroImage()\n",
    "    image.load_file(path)\n",
    "    sum = np.sum(image.get_data())\n",
    "    fa.dontneed(path) # advise os to remove from cache\n",
    "    return sum"
   ]
  },
  {
   "cell_type": "code",
   "execution_count": 5,
   "metadata": {
    "collapsed": true
   },
   "outputs": [],
   "source": [
    "def load_with_noreuse(path):\n",
    "    '''Advises OS that the file will only be accessed once.\n",
    "    Shouldn't show a different in speed, but should be tested'''\n",
    "    fa.noreuse(path)\n",
    "    sleep(2)\n",
    "    image = AstroImage()\n",
    "    image.load_file(path)\n",
    "    sum = np.sum(image.get_data())\n",
    "    fa.dontneed(path) # advise os to remove from cache\n",
    "    return sum"
   ]
  },
  {
   "cell_type": "code",
   "execution_count": 6,
   "metadata": {
    "collapsed": true
   },
   "outputs": [],
   "source": [
    "def load_with_sequential(path): \n",
    "    '''Advises the OS that the data will be accessed in a \n",
    "    sequential fashion. Not sure how valid this assumption \n",
    "    is for loading image files.''' \n",
    "    fa.sequential(path) \n",
    "    sleep(2) \n",
    "    image = AstroImage() \n",
    "    image.load_file(path) \n",
    "    sum = np.sum(image.get_data()) \n",
    "    fa.dontneed(path) # advise os to remove from cache\n",
    "    return sum"
   ]
  },
  {
   "cell_type": "markdown",
   "metadata": {},
   "source": [
    "# Timings"
   ]
  },
  {
   "cell_type": "code",
   "execution_count": 7,
   "metadata": {
    "collapsed": true
   },
   "outputs": [],
   "source": [
    "# get list of functions to test\n",
    "funcs = [load_normal, \n",
    "         load_with_advise, \n",
    "         load_with_noreuse, \n",
    "         load_with_sequential]"
   ]
  },
  {
   "cell_type": "code",
   "execution_count": 8,
   "metadata": {
    "collapsed": false
   },
   "outputs": [
    {
     "name": "stdout",
     "output_type": "stream",
     "text": [
      "['images/scaled15000x15000.fits', 'images/5000x5000.fits', 'images/1000x1000.fits', 'images/15000x15000.fits', 'images/iris.fits', 'images/10000x10000.fits']\n"
     ]
    }
   ],
   "source": [
    "# get list of test images\n",
    "import glob\n",
    "files = glob.glob('images/*.fits')\n",
    "print files"
   ]
  },
  {
   "cell_type": "markdown",
   "metadata": {},
   "source": [
    "### First test `fitsio`"
   ]
  },
  {
   "cell_type": "code",
   "execution_count": 14,
   "metadata": {
    "collapsed": false
   },
   "outputs": [
    {
     "name": "stdout",
     "output_type": "stream",
     "text": [
      "<ginga.util.io_fits.FitsioFileHandler object at 0x7f85a076acd0>\n",
      "***images/scaled15000x15000.fits\n",
      "-load_normal\n",
      "CPU times: user 1.37 s, sys: 1.12 s, total: 2.49 s\n",
      "Wall time: 5.37 s\n",
      "-load_with_advise\n",
      "CPU times: user 1.39 s, sys: 884 ms, total: 2.28 s\n",
      "Wall time: 5.37 s\n",
      "-load_with_noreuse\n",
      "CPU times: user 1.34 s, sys: 832 ms, total: 2.17 s\n",
      "Wall time: 6.17 s\n",
      "-load_with_sequential\n",
      "CPU times: user 1.48 s, sys: 708 ms, total: 2.19 s\n",
      "Wall time: 6.5 s\n",
      "\n",
      "\n",
      "***images/5000x5000.fits\n",
      "-load_normal\n",
      "CPU times: user 152 ms, sys: 176 ms, total: 328 ms\n",
      "Wall time: 4.15 s\n",
      "-load_with_advise\n",
      "CPU times: user 132 ms, sys: 232 ms, total: 364 ms\n",
      "Wall time: 5.27 s\n",
      "-load_with_noreuse\n",
      "CPU times: user 136 ms, sys: 216 ms, total: 352 ms\n",
      "Wall time: 4.35 s\n",
      "-load_with_sequential\n",
      "CPU times: user 144 ms, sys: 216 ms, total: 360 ms\n",
      "Wall time: 4.32 s\n",
      "\n",
      "\n",
      "***images/1000x1000.fits\n",
      "-load_normal\n",
      "CPU times: user 12 ms, sys: 4 ms, total: 16 ms\n",
      "Wall time: 2.03 s\n",
      "-load_with_advise\n",
      "CPU times: user 12 ms, sys: 0 ns, total: 12 ms\n",
      "Wall time: 2.03 s\n",
      "-load_with_noreuse\n",
      "CPU times: user 8 ms, sys: 8 ms, total: 16 ms\n",
      "Wall time: 2.03 s\n",
      "-load_with_sequential\n",
      "CPU times: user 8 ms, sys: 8 ms, total: 16 ms\n",
      "Wall time: 2.03 s\n",
      "\n",
      "\n",
      "***images/15000x15000.fits\n",
      "-load_normal\n",
      "CPU times: user 692 ms, sys: 736 ms, total: 1.43 s\n",
      "Wall time: 7.28 s\n",
      "-load_with_advise\n",
      "CPU times: user 776 ms, sys: 1.53 s, total: 2.3 s\n",
      "Wall time: 11.2 s\n",
      "-load_with_noreuse\n",
      "CPU times: user 816 ms, sys: 1.41 s, total: 2.23 s\n",
      "Wall time: 9.92 s\n",
      "-load_with_sequential\n",
      "CPU times: user 764 ms, sys: 1.22 s, total: 1.98 s\n",
      "Wall time: 9.23 s\n",
      "\n",
      "\n",
      "***images/iris.fits\n",
      "-load_normal\n",
      "CPU times: user 940 ms, sys: 496 ms, total: 1.44 s\n",
      "Wall time: 3.86 s\n",
      "-load_with_advise\n",
      "CPU times: user 976 ms, sys: 432 ms, total: 1.41 s\n",
      "Wall time: 3.8 s\n",
      "-load_with_noreuse\n",
      "CPU times: user 1.42 s, sys: 692 ms, total: 2.12 s\n",
      "Wall time: 4.24 s\n",
      "-load_with_sequential\n",
      "CPU times: user 1.04 s, sys: 456 ms, total: 1.5 s\n",
      "Wall time: 3.9 s\n",
      "\n",
      "\n",
      "***images/10000x10000.fits\n",
      "-load_normal\n",
      "CPU times: user 280 ms, sys: 240 ms, total: 520 ms\n",
      "Wall time: 2.52 s\n",
      "-load_with_advise\n",
      "CPU times: user 408 ms, sys: 712 ms, total: 1.12 s\n",
      "Wall time: 7.25 s\n",
      "-load_with_noreuse\n",
      "CPU times: user 388 ms, sys: 572 ms, total: 960 ms\n",
      "Wall time: 5.78 s\n",
      "-load_with_sequential\n",
      "CPU times: user 408 ms, sys: 520 ms, total: 928 ms\n",
      "Wall time: 5.05 s\n",
      "\n",
      "\n"
     ]
    }
   ],
   "source": [
    "if io.use('fitsio'): # 'astropy' or 'fitsio', \n",
    "    # also execute only if the change passes\n",
    "    print io.get_fitsloader()\n",
    "    # time each function, sorted first by file\n",
    "    # shows timings for each image by the different functions before \n",
    "    # moving onto testing the next image\n",
    "    for f in files:\n",
    "        print '```' + f\n",
    "        for func in funcs:\n",
    "            print '-' + func.func_name\n",
    "            %time func(f)\n",
    "        print '\\n'"
   ]
  },
  {
   "cell_type": "markdown",
   "metadata": {},
   "source": [
    "### Next test `astropy.pyfits`"
   ]
  },
  {
   "cell_type": "code",
   "execution_count": 10,
   "metadata": {
    "collapsed": false
   },
   "outputs": [
    {
     "name": "stdout",
     "output_type": "stream",
     "text": [
      "<ginga.util.io_fits.PyFitsFileHandler object at 0x7f851acee550>\n",
      "***images/scaled15000x15000.fits\n",
      "-load_normal\n",
      "CPU times: user 1.57 s, sys: 588 ms, total: 2.16 s\n",
      "Wall time: 5.27 s\n",
      "-load_with_advise\n",
      "CPU times: user 1.55 s, sys: 600 ms, total: 2.15 s\n",
      "Wall time: 5.14 s\n",
      "-load_with_noreuse\n",
      "CPU times: user 1.6 s, sys: 628 ms, total: 2.23 s\n",
      "Wall time: 5.09 s\n",
      "-load_with_sequential\n",
      "CPU times: user 1.52 s, sys: 572 ms, total: 2.1 s\n",
      "Wall time: 5.33 s\n",
      "\n",
      "\n",
      "***images/5000x5000.fits\n",
      "-load_normal\n",
      "CPU times: user 240 ms, sys: 100 ms, total: 340 ms\n",
      "Wall time: 2.69 s\n",
      "-load_with_advise\n",
      "CPU times: user 180 ms, sys: 16 ms, total: 196 ms\n",
      "Wall time: 2.2 s\n",
      "-load_with_noreuse\n",
      "CPU times: user 180 ms, sys: 12 ms, total: 192 ms\n",
      "Wall time: 2.19 s\n",
      "-load_with_sequential\n",
      "CPU times: user 192 ms, sys: 0 ns, total: 192 ms\n",
      "Wall time: 2.19 s\n",
      "\n",
      "\n",
      "***images/1000x1000.fits\n",
      "-load_normal\n",
      "CPU times: user 24 ms, sys: 8 ms, total: 32 ms\n",
      "Wall time: 2.04 s\n",
      "-load_with_advise\n",
      "CPU times: user 28 ms, sys: 0 ns, total: 28 ms\n",
      "Wall time: 2.03 s\n",
      "-load_with_noreuse\n",
      "CPU times: user 24 ms, sys: 0 ns, total: 24 ms\n",
      "Wall time: 2.03 s\n",
      "-load_with_sequential\n",
      "CPU times: user 24 ms, sys: 0 ns, total: 24 ms\n",
      "Wall time: 2.03 s\n",
      "\n",
      "\n",
      "***images/15000x15000.fits\n",
      "-load_normal\n",
      "CPU times: user 1.78 s, sys: 1.15 s, total: 2.94 s\n",
      "Wall time: 20 s\n",
      "-load_with_advise\n",
      "CPU times: user 992 ms, sys: 120 ms, total: 1.11 s\n",
      "Wall time: 3.11 s\n",
      "-load_with_noreuse\n",
      "CPU times: user 1.03 s, sys: 48 ms, total: 1.08 s\n",
      "Wall time: 3.08 s\n",
      "-load_with_sequential\n",
      "CPU times: user 984 ms, sys: 72 ms, total: 1.06 s\n",
      "Wall time: 3.05 s\n",
      "\n",
      "\n",
      "***images/iris.fits\n",
      "-load_normal\n",
      "CPU times: user 1.17 s, sys: 472 ms, total: 1.64 s\n",
      "Wall time: 4.16 s\n",
      "-load_with_advise\n",
      "CPU times: user 1.18 s, sys: 408 ms, total: 1.59 s\n",
      "Wall time: 4.11 s\n",
      "-load_with_noreuse\n",
      "CPU times: user 1.1 s, sys: 448 ms, total: 1.55 s\n",
      "Wall time: 4.13 s\n",
      "-load_with_sequential\n",
      "CPU times: user 1.26 s, sys: 412 ms, total: 1.67 s\n",
      "Wall time: 4.13 s\n",
      "\n",
      "\n",
      "***images/10000x10000.fits\n",
      "-load_normal\n",
      "CPU times: user 764 ms, sys: 384 ms, total: 1.15 s\n",
      "Wall time: 4.55 s\n",
      "-load_with_advise\n",
      "CPU times: user 468 ms, sys: 88 ms, total: 556 ms\n",
      "Wall time: 2.56 s\n",
      "-load_with_noreuse\n",
      "CPU times: user 492 ms, sys: 36 ms, total: 528 ms\n",
      "Wall time: 2.53 s\n",
      "-load_with_sequential\n",
      "CPU times: user 512 ms, sys: 28 ms, total: 540 ms\n",
      "Wall time: 2.54 s\n",
      "\n",
      "\n"
     ]
    }
   ],
   "source": [
    "if io.use('astropy'): # 'astropy' or 'fitsio', \n",
    "    # also execute only if the change passes\n",
    "    print io.get_fitsloader()\n",
    "    # time each function, sorted first by file\n",
    "    # shows timings for each image by the different functions before \n",
    "    # moving onto testing the next image\n",
    "    for f in files:\n",
    "        print '```' + f\n",
    "        for func in funcs:\n",
    "            print '-' + func.func_name\n",
    "            %time func(f)\n",
    "        print '\\n'"
   ]
  },
  {
   "cell_type": "markdown",
   "metadata": {},
   "source": [
    "### Initial Observations"
   ]
  },
  {
   "cell_type": "markdown",
   "metadata": {},
   "source": [
    "1. Overall, there seems to be some differences between `load_normal` and consequent function calls. Check whether this time difference is due to caching (first call is slower, but later calls are faster and vice versa) or just better `advising`.\n",
    "\n",
    "2. `15000x15000.fits` seems to improve considerably under advising with `pyfits`; but check whether this is consequence of how we are testing it. (see #1) Important to note that this file is the largest (in terms of disk space). \n",
    "\n",
    "3. For small images, results are nearly the same/insignifcant for both `PyFits`/`fitsio` and advising operations. Remember that we are putting a two second delay in these loading operations, so subtracting two from the result shows a nearly instant loading time. First impression is that in the small file size regime, image loading optimizations do not matter. "
   ]
  },
  {
   "cell_type": "markdown",
   "metadata": {},
   "source": [
    "#### Now test #1; Checking whether first call caches file, making next calls faster"
   ]
  },
  {
   "cell_type": "code",
   "execution_count": 11,
   "metadata": {
    "collapsed": false
   },
   "outputs": [
    {
     "data": {
      "text/plain": [
       "[<function __main__.load_with_sequential>,\n",
       " <function __main__.load_with_noreuse>,\n",
       " <function __main__.load_with_advise>,\n",
       " <function __main__.load_normal>]"
      ]
     },
     "execution_count": 11,
     "metadata": {},
     "output_type": "execute_result"
    }
   ],
   "source": [
    "funcs2 = funcs[::-1] # reverse it\n",
    "funcs2"
   ]
  },
  {
   "cell_type": "markdown",
   "metadata": {},
   "source": [
    "##### Test `fitsio` library"
   ]
  },
  {
   "cell_type": "code",
   "execution_count": 12,
   "metadata": {
    "collapsed": false
   },
   "outputs": [
    {
     "name": "stdout",
     "output_type": "stream",
     "text": [
      "<ginga.util.io_fits.FitsioFileHandler object at 0x7f851ad25bd0>\n",
      "***images/scaled15000x15000.fits\n",
      "-load_with_sequential\n",
      "CPU times: user 1.21 s, sys: 1.27 s, total: 2.48 s\n",
      "Wall time: 5.52 s\n",
      "-load_with_noreuse\n",
      "CPU times: user 1.3 s, sys: 832 ms, total: 2.13 s\n",
      "Wall time: 4.91 s\n",
      "-load_with_advise\n",
      "CPU times: user 1.43 s, sys: 748 ms, total: 2.18 s\n",
      "Wall time: 5.28 s\n",
      "-load_normal\n",
      "CPU times: user 1.32 s, sys: 656 ms, total: 1.98 s\n",
      "Wall time: 4.8 s\n",
      "\n",
      "\n",
      "***images/5000x5000.fits\n",
      "-load_with_sequential\n",
      "CPU times: user 140 ms, sys: 132 ms, total: 272 ms\n",
      "Wall time: 2.59 s\n",
      "-load_with_noreuse\n",
      "CPU times: user 128 ms, sys: 156 ms, total: 284 ms\n",
      "Wall time: 2.68 s\n",
      "-load_with_advise\n",
      "CPU times: user 104 ms, sys: 176 ms, total: 280 ms\n",
      "Wall time: 2.67 s\n",
      "-load_normal\n",
      "CPU times: user 124 ms, sys: 176 ms, total: 300 ms\n",
      "Wall time: 2.69 s\n",
      "\n",
      "\n",
      "***images/1000x1000.fits\n",
      "-load_with_sequential\n",
      "CPU times: user 12 ms, sys: 16 ms, total: 28 ms\n",
      "Wall time: 2.04 s\n",
      "-load_with_noreuse\n",
      "CPU times: user 20 ms, sys: 4 ms, total: 24 ms\n",
      "Wall time: 2.04 s\n",
      "-load_with_advise\n",
      "CPU times: user 20 ms, sys: 4 ms, total: 24 ms\n",
      "Wall time: 2.04 s\n",
      "-load_normal\n",
      "CPU times: user 16 ms, sys: 0 ns, total: 16 ms\n",
      "Wall time: 2.03 s\n",
      "\n",
      "\n",
      "***images/15000x15000.fits\n",
      "-load_with_sequential\n",
      "CPU times: user 664 ms, sys: 860 ms, total: 1.52 s\n",
      "Wall time: 5.17 s\n",
      "-load_with_noreuse\n",
      "CPU times: user 764 ms, sys: 1.52 s, total: 2.28 s\n",
      "Wall time: 9.77 s\n",
      "-load_with_advise\n",
      "CPU times: user 732 ms, sys: 1.61 s, total: 2.34 s\n",
      "Wall time: 12.1 s\n",
      "-load_normal\n",
      "CPU times: user 812 ms, sys: 1.5 s, total: 2.31 s\n",
      "Wall time: 11.9 s\n",
      "\n",
      "\n",
      "***images/iris.fits\n",
      "-load_with_sequential\n",
      "CPU times: user 1.4 s, sys: 748 ms, total: 2.15 s\n",
      "Wall time: 4.22 s\n",
      "-load_with_noreuse\n",
      "CPU times: user 1.49 s, sys: 644 ms, total: 2.13 s\n",
      "Wall time: 4.21 s\n",
      "-load_with_advise\n",
      "CPU times: user 1.51 s, sys: 708 ms, total: 2.22 s\n",
      "Wall time: 4.28 s\n",
      "-load_normal\n",
      "CPU times: user 1.35 s, sys: 664 ms, total: 2.02 s\n",
      "Wall time: 4.18 s\n",
      "\n",
      "\n",
      "***images/10000x10000.fits\n",
      "-load_with_sequential\n",
      "CPU times: user 284 ms, sys: 240 ms, total: 524 ms\n",
      "Wall time: 2.52 s\n",
      "-load_with_noreuse\n",
      "CPU times: user 416 ms, sys: 736 ms, total: 1.15 s\n",
      "Wall time: 7.53 s\n",
      "-load_with_advise\n",
      "CPU times: user 392 ms, sys: 780 ms, total: 1.17 s\n",
      "Wall time: 8.05 s\n",
      "-load_normal\n",
      "CPU times: user 412 ms, sys: 820 ms, total: 1.23 s\n",
      "Wall time: 9.9 s\n",
      "\n",
      "\n"
     ]
    }
   ],
   "source": [
    "if io.use('fitsio'): # 'astropy' or 'fitsio', \n",
    "    # also execute only if the change passes\n",
    "    print io.get_fitsloader()\n",
    "    # time each function, sorted first by file\n",
    "    # shows timings for each image by the different functions before \n",
    "    # moving onto testing the next image\n",
    "    for f in files:\n",
    "        print '```' + f\n",
    "        for func in funcs2:\n",
    "            print '-' + func.func_name\n",
    "            %time func(f)\n",
    "        print '\\n'"
   ]
  },
  {
   "cell_type": "markdown",
   "metadata": {},
   "source": [
    "##### Test `astropy.pyfits` library"
   ]
  },
  {
   "cell_type": "code",
   "execution_count": 13,
   "metadata": {
    "collapsed": false
   },
   "outputs": [
    {
     "name": "stdout",
     "output_type": "stream",
     "text": [
      "<ginga.util.io_fits.PyFitsFileHandler object at 0x7f85811d83d0>\n",
      "***images/scaled15000x15000.fits\n",
      "-load_with_sequential\n",
      "CPU times: user 1.66 s, sys: 600 ms, total: 2.26 s\n",
      "Wall time: 5.78 s\n",
      "-load_with_noreuse\n",
      "CPU times: user 1.54 s, sys: 548 ms, total: 2.09 s\n",
      "Wall time: 4.97 s\n",
      "-load_with_advise\n",
      "CPU times: user 1.54 s, sys: 584 ms, total: 2.12 s\n",
      "Wall time: 5.33 s\n",
      "-load_normal\n",
      "CPU times: user 1.59 s, sys: 524 ms, total: 2.11 s\n",
      "Wall time: 5.13 s\n",
      "\n",
      "\n",
      "***images/5000x5000.fits\n",
      "-load_with_sequential\n",
      "CPU times: user 224 ms, sys: 152 ms, total: 376 ms\n",
      "Wall time: 3.56 s\n",
      "-load_with_noreuse\n",
      "CPU times: user 184 ms, sys: 16 ms, total: 200 ms\n",
      "Wall time: 2.2 s\n",
      "-load_with_advise\n",
      "CPU times: user 160 ms, sys: 32 ms, total: 192 ms\n",
      "Wall time: 2.19 s\n",
      "-load_normal\n",
      "CPU times: user 184 ms, sys: 12 ms, total: 196 ms\n",
      "Wall time: 2.19 s\n",
      "\n",
      "\n",
      "***images/1000x1000.fits\n",
      "-load_with_sequential\n",
      "CPU times: user 20 ms, sys: 8 ms, total: 28 ms\n",
      "Wall time: 2.04 s\n",
      "-load_with_noreuse\n",
      "CPU times: user 24 ms, sys: 0 ns, total: 24 ms\n",
      "Wall time: 2.03 s\n",
      "-load_with_advise\n",
      "CPU times: user 24 ms, sys: 0 ns, total: 24 ms\n",
      "Wall time: 2.03 s\n",
      "-load_normal\n",
      "CPU times: user 24 ms, sys: 0 ns, total: 24 ms\n",
      "Wall time: 2.02 s\n",
      "\n",
      "\n",
      "***images/15000x15000.fits\n",
      "-load_with_sequential\n",
      "CPU times: user 1.64 s, sys: 988 ms, total: 2.62 s\n",
      "Wall time: 13.2 s\n",
      "-load_with_noreuse\n",
      "CPU times: user 932 ms, sys: 144 ms, total: 1.08 s\n",
      "Wall time: 3.08 s\n",
      "-load_with_advise\n",
      "CPU times: user 988 ms, sys: 64 ms, total: 1.05 s\n",
      "Wall time: 3.05 s\n",
      "-load_normal\n",
      "CPU times: user 952 ms, sys: 100 ms, total: 1.05 s\n",
      "Wall time: 3.05 s\n",
      "\n",
      "\n",
      "***images/iris.fits\n",
      "-load_with_sequential\n",
      "CPU times: user 1.11 s, sys: 312 ms, total: 1.42 s\n",
      "Wall time: 4.06 s\n",
      "-load_with_noreuse\n",
      "CPU times: user 1.05 s, sys: 292 ms, total: 1.34 s\n",
      "Wall time: 4.04 s\n",
      "-load_with_advise\n",
      "CPU times: user 1.06 s, sys: 400 ms, total: 1.46 s\n",
      "Wall time: 4.08 s\n",
      "-load_normal\n",
      "CPU times: user 1.03 s, sys: 392 ms, total: 1.42 s\n",
      "Wall time: 4.06 s\n",
      "\n",
      "\n",
      "***images/10000x10000.fits\n",
      "-load_with_sequential\n",
      "CPU times: user 792 ms, sys: 584 ms, total: 1.38 s\n",
      "Wall time: 11.6 s\n",
      "-load_with_noreuse\n",
      "CPU times: user 508 ms, sys: 56 ms, total: 564 ms\n",
      "Wall time: 2.56 s\n",
      "-load_with_advise\n",
      "CPU times: user 468 ms, sys: 52 ms, total: 520 ms\n",
      "Wall time: 2.52 s\n",
      "-load_normal\n",
      "CPU times: user 472 ms, sys: 48 ms, total: 520 ms\n",
      "Wall time: 2.52 s\n",
      "\n",
      "\n"
     ]
    }
   ],
   "source": [
    "if io.use('astropy'): # 'astropy' or 'fitsio', \n",
    "    # also execute only if the change passes\n",
    "    print io.get_fitsloader()\n",
    "    # time each function, sorted first by file\n",
    "    # shows timings for each image by the different functions before \n",
    "    # moving onto testing the next image\n",
    "    for f in files:\n",
    "        print '```' + f\n",
    "        for func in funcs2:\n",
    "            print '-' + func.func_name\n",
    "            %time func(f)\n",
    "        print '\\n'"
   ]
  },
  {
   "cell_type": "markdown",
   "metadata": {},
   "source": [
    "#### Revisiting Observations"
   ]
  },
  {
   "cell_type": "markdown",
   "metadata": {},
   "source": [
    "1. There is a pattern to the first loading function taking longer than the subsequent calls, regardless of the function used. This implies that there might be some OS optimization that is not regulated by `python-fadvise` or the way we're clearing the file out of cache is not good enough. Unfortunately, this makes testing harder to judge. \n",
    "\n",
    "2. On the opposite end, advising a sequential access to `fitsio` may result in faster loading times with very large files. Look at `10000x10000.fits` and `15000x15000.fits` for examples of this. This trend is missing from the first run, where sequential access was tested last, hence this should be tested more in order to say anything conclusive. My guess is that the file might start have been cached intially or something to that effect, speeding up the first load. \n",
    "\n",
    "3. The subsequent loading of `15000x15000.fits` is strangely cached not by the OS, but by the `pyfits` library. When loading with `pyfits`, the first call takes ~8 secs but later calls take ~3 secs. This does not happen with `cfitsio` (constant ~8 secs regardless of advising or order of loading functions). Possible topic to investigate. Same behavior occurs with `10000x10000.fits`. "
   ]
  },
  {
   "cell_type": "markdown",
   "metadata": {},
   "source": [
    "## Conclusions #1"
   ]
  },
  {
   "cell_type": "markdown",
   "metadata": {},
   "source": [
    "In all, there seems to be no significant improvement with using the python library `fadvise`. There was a bias in which the first loading function was performing an OS optimization for subsequent calls, which we determined to be independent of the call used. Upon recognizing this bias, there was no discernable difference between normally loading and advising the OS to pre-cache. \n",
    "\n",
    "These timings were made on an eight-core Ubuntu 15.10 running a Linux 4.2.0-36-generic kernel with eight gibabytes of memory using a SSD. As such, timings on other machines may vary. "
   ]
  },
  {
   "cell_type": "markdown",
   "metadata": {},
   "source": [
    "## Further work"
   ]
  },
  {
   "cell_type": "markdown",
   "metadata": {},
   "source": [
    "1. Test with longer delay, see if this helps the OS adjust a bit more to the advise. \n",
    "\n",
    "2. Also perhaps test with a delay after each loading function to see if the file is cleared out the cache in that time. \n",
    "\n",
    "3. Find out why and how `pyfits` is optimizing reusage of `15000x15000.fits`. This is unexpected behavior. "
   ]
  }
 ],
 "metadata": {
  "kernelspec": {
   "display_name": "Python 2",
   "language": "python",
   "name": "python2"
  },
  "language_info": {
   "codemirror_mode": {
    "name": "ipython",
    "version": 2
   },
   "file_extension": ".py",
   "mimetype": "text/x-python",
   "name": "python",
   "nbconvert_exporter": "python",
   "pygments_lexer": "ipython2",
   "version": "2.7.10"
  }
 },
 "nbformat": 4,
 "nbformat_minor": 0
}
