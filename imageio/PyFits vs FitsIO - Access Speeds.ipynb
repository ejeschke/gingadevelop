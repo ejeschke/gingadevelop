{
 "cells": [
  {
   "cell_type": "code",
   "execution_count": 1,
   "metadata": {
    "collapsed": true
   },
   "outputs": [],
   "source": [
    "import fitsio\n",
    "from astropy.io import fits as pyfits"
   ]
  },
  {
   "cell_type": "code",
   "execution_count": 2,
   "metadata": {
    "collapsed": false
   },
   "outputs": [
    {
     "name": "stdout",
     "output_type": "stream",
     "text": [
      "['images/scaled15000x15000.fits', 'images/5000x5000.fits', 'images/1000x1000.fits', 'images/15000x15000.fits', 'images/iris.fits', 'images/10000x10000.fits']\n"
     ]
    }
   ],
   "source": [
    "# list of test image files\n",
    "import glob\n",
    "files = glob.glob('images/*.fits')\n",
    "print files"
   ]
  },
  {
   "cell_type": "markdown",
   "metadata": {},
   "source": [
    "## Timings"
   ]
  },
  {
   "cell_type": "markdown",
   "metadata": {},
   "source": [
    "Here we choose to test `15000x15000.fits` as the testing image, since it (one of) the largest images we have in this testing set. Differences in speed will be more apparent with larger and larger image sizes. In the tests below, we will testing multiple options that might have an impact of accessing sections of data from image files.\n",
    "\n",
    "Also, we want caching to speed up the access here, since we might have to extract the data more than once in practice. Hence, ignore the warnings about 'intermediate results being cached' and use the fastest time as the final result."
   ]
  },
  {
   "cell_type": "markdown",
   "metadata": {},
   "source": [
    "### PyFits Calls"
   ]
  },
  {
   "cell_type": "markdown",
   "metadata": {},
   "source": [
    "`PyFits` can be called with a `memmap` option which will tell the loading function whether or not to use a memory-map when loading the image into memory. Using a `memmap` will make access speeds faster; as shown below. [Call API Here](http://pythonhosted.org/pyfits/api/files.html#pyfits.open)\n",
    "\n",
    "There are no other performance options to this loading function. `PyFits` defaults to using 'readonly' mode, thus it does not need to be specified as so."
   ]
  },
  {
   "cell_type": "code",
   "execution_count": 3,
   "metadata": {
    "collapsed": false
   },
   "outputs": [
    {
     "name": "stdout",
     "output_type": "stream",
     "text": [
      "The slowest run took 97.30 times longer than the fastest. This could mean that an intermediate result is being cached.\n",
      "100000 loops, best of 3: 2.12 µs per loop\n"
     ]
    }
   ],
   "source": [
    "# Test PyFits with memmap=True (force PyFits to use a memmap)\n",
    "# This is default behavior when this keyword is empty --\n",
    "# i.e. Usually PyFits will automatically try to memmap the image, but\n",
    "# here we are telling it to use one anyways\n",
    "with pyfits.open(files[3], memmap=True) as hdul:\n",
    "    %timeit hdul[0].data[5000:-5000,5000:-5000]"
   ]
  },
  {
   "cell_type": "code",
   "execution_count": 4,
   "metadata": {
    "collapsed": false
   },
   "outputs": [
    {
     "name": "stdout",
     "output_type": "stream",
     "text": [
      "The slowest run took 642213.43 times longer than the fastest. This could mean that an intermediate result is being cached.\n",
      "1 loop, best of 3: 5.01 µs per loop\n"
     ]
    }
   ],
   "source": [
    "# Test PyFits with memmap=False (force PyFits to NOT use a memmap)\n",
    "# Loads the file section into memory\n",
    "with pyfits.open(files[3], memmap=False) as hdul: \n",
    "    %timeit hdul[0].data[5000:-5000,5000:-5000]"
   ]
  },
  {
   "cell_type": "markdown",
   "metadata": {},
   "source": [
    "#### Sections"
   ]
  },
  {
   "cell_type": "markdown",
   "metadata": {},
   "source": [
    "`pyfits`, as an alternative to memory-mapping, provides [`sections`](http://docs.astropy.org/en/stable/io/fits/usage/image.html#data-sections) for accessing parts of large data files. This is the only alterative for loading files with `bzero` & `bscale` arguments and for those that cannot be loaded (in entirety) into memory. In large parts, this method is superseded by `memmaps` but it is useful to gauge how access speeds vary with this approach."
   ]
  },
  {
   "cell_type": "markdown",
   "metadata": {},
   "source": [
    "##### Memmap, no-Memmap, and sections on a image file with bzero/bscale parameters"
   ]
  },
  {
   "cell_type": "code",
   "execution_count": 22,
   "metadata": {
    "collapsed": false
   },
   "outputs": [
    {
     "name": "stdout",
     "output_type": "stream",
     "text": [
      "Cannot load a memory-mapped image: BZERO/BSCALE/BLANK header keywords present. Set memmap=False.\n"
     ]
    }
   ],
   "source": [
    "# example of case where scaled images cannot be memory-mapped\n",
    "# error is intended to be shown!\n",
    "try:\n",
    "    hdul = pyfits.open(files[0], memmap=True)\n",
    "    %timeit hdul[0].data[5000:-5000,5000:-5000]\n",
    "except ValueError as ve:\n",
    "   print ve"
   ]
  },
  {
   "cell_type": "code",
   "execution_count": 23,
   "metadata": {
    "collapsed": false
   },
   "outputs": [
    {
     "name": "stdout",
     "output_type": "stream",
     "text": [
      "The slowest run took 755135.35 times longer than the fastest. This could mean that an intermediate result is being cached.\n",
      "1 loop, best of 3: 4.05 µs per loop\n"
     ]
    }
   ],
   "source": [
    "# try again, but with memmap=False\n",
    "try:\n",
    "    hdul = pyfits.open(files[0], memmap=False)\n",
    "    %timeit hdul[0].data[5000:-5000,5000:-5000]\n",
    "except ValueError as ve:\n",
    "   print ve"
   ]
  },
  {
   "cell_type": "code",
   "execution_count": 24,
   "metadata": {
    "collapsed": false
   },
   "outputs": [
    {
     "name": "stdout",
     "output_type": "stream",
     "text": [
      "1 loop, best of 3: 434 ms per loop\n"
     ]
    }
   ],
   "source": [
    "# try again, but with memmap=False\n",
    "# and use sections\n",
    "try:\n",
    "    hdul = pyfits.open(files[0], memmap=False)\n",
    "    %timeit hdul[0].section[5000:-5000,5000:-5000]\n",
    "except ValueError as ve:\n",
    "   print ve"
   ]
  },
  {
   "cell_type": "markdown",
   "metadata": {},
   "source": [
    "##### Use sections naively on simple image file"
   ]
  },
  {
   "cell_type": "code",
   "execution_count": 5,
   "metadata": {
    "collapsed": false
   },
   "outputs": [
    {
     "name": "stdout",
     "output_type": "stream",
     "text": [
      "1 loop, best of 3: 174 ms per loop\n"
     ]
    }
   ],
   "source": [
    "# Test PyFits with memmap=True (force PyFits to use a memmap)\n",
    "with pyfits.open(files[3], memmap=True) as hdul: \n",
    "    %timeit hdul[0].section[5000:-5000,5000:-5000]"
   ]
  },
  {
   "cell_type": "code",
   "execution_count": 6,
   "metadata": {
    "collapsed": false
   },
   "outputs": [
    {
     "name": "stdout",
     "output_type": "stream",
     "text": [
      "1 loop, best of 3: 275 ms per loop\n"
     ]
    }
   ],
   "source": [
    "# Test PyFits with memmap=False (force PyFits to NOT use a memmap)\n",
    "with pyfits.open(files[3], memmap=False) as hdul: \n",
    "    %timeit hdul[0].section[5000:-5000,5000:-5000]"
   ]
  },
  {
   "cell_type": "markdown",
   "metadata": {},
   "source": [
    "### Fitsio Calls"
   ]
  },
  {
   "cell_type": "markdown",
   "metadata": {},
   "source": [
    "`fitsio` only has the simple loading call with no extra performance specific parameters. It has a `iter_row_buffer` parameter for speeding up loading table row/colummns, but is not intended for reading images.\n",
    "\n",
    "[Examples on how to call given here, under the 'documentation' (repo description)](https://github.com/esheldon/fitsio) \n",
    "\n",
    "[Link to object call in the code](https://github.com/esheldon/fitsio/blob/master/fitsio/fitslib.py#L262)\n",
    "\n",
    "Just like `pyfits`, `fitsio` defaults to 'readonly' for files."
   ]
  },
  {
   "cell_type": "code",
   "execution_count": 7,
   "metadata": {
    "collapsed": false
   },
   "outputs": [
    {
     "name": "stdout",
     "output_type": "stream",
     "text": [
      "1 loop, best of 3: 237 ms per loop\n"
     ]
    }
   ],
   "source": [
    "# Use fitsio with default parameters\n",
    "# fitsio doesn't have (any!) performance improving options \n",
    "with fitsio.FITS(files[3]) as f:\n",
    "    %timeit f[0][5000:-5000,5000:-5000]\n",
    "    f.close()"
   ]
  },
  {
   "cell_type": "markdown",
   "metadata": {},
   "source": [
    "## Conclusions"
   ]
  },
  {
   "cell_type": "markdown",
   "metadata": {},
   "source": [
    "`pyfits` has much faster access speeds than `fitsio`. The difference is abyssal, with `pyfits` being $\\gt5x10^4$ faster than `fitsio`. This drastic time difference is very strange; implying `fitsio` does not use memory-maps by default (since the timings for `pyfits.sections` is similar in magnitude to those of `fitsio`). Also, should be noted that using `pyfits.sections` is not as fast as normal accessing, and ought to avoided whenever possible. It is the minimum performance benchmark, and only should be used when all other loading methods are inadequate.\n",
    "\n",
    "As far as I can find, these are the quickest ways to load and access part of an image. If you know of another way to load that may help performance-wise, let me know/add it here.  "
   ]
  },
  {
   "cell_type": "code",
   "execution_count": null,
   "metadata": {
    "collapsed": true
   },
   "outputs": [],
   "source": []
  }
 ],
 "metadata": {
  "kernelspec": {
   "display_name": "Python 2",
   "language": "python",
   "name": "python2"
  },
  "language_info": {
   "codemirror_mode": {
    "name": "ipython",
    "version": 2
   },
   "file_extension": ".py",
   "mimetype": "text/x-python",
   "name": "python",
   "nbconvert_exporter": "python",
   "pygments_lexer": "ipython2",
   "version": "2.7.10"
  }
 },
 "nbformat": 4,
 "nbformat_minor": 0
}
